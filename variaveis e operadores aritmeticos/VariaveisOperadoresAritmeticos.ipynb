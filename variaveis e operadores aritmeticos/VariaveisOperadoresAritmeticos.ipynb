{
  "cells": [
    {
      "cell_type": "markdown",
      "metadata": {
        "id": "epuOneJZBd12"
      },
      "source": [
        "# Criando Variáveis\n"
      ]
    },
    {
      "cell_type": "markdown",
      "source": [
        "### Área do quadrado"
      ],
      "metadata": {
        "id": "YGUF3sNg_uJY"
      }
    },
    {
      "cell_type": "code",
      "execution_count": null,
      "metadata": {
        "id": "bmQDl0GNCywd",
        "colab": {
          "base_uri": "https://localhost:8080/"
        },
        "outputId": "85ceac8a-a018-40fd-e6ac-595e314e22ad"
      },
      "outputs": [
        {
          "output_type": "stream",
          "name": "stdout",
          "text": [
            "Digite o lado do seu quadrado: 5\n",
            "A Área do quadrado é:  25.0\n"
          ]
        }
      ],
      "source": [
        "\n",
        "#entrada\n",
        "\n",
        "l = float(input(\"Digite o lado do seu quadrado: \",))\n",
        "#processamento\n",
        "a = l*l\n",
        "#saída\n",
        "print(\"A Área do quadrado é: \", a)"
      ]
    },
    {
      "cell_type": "markdown",
      "metadata": {
        "id": "10T00_TkJ5Hk"
      },
      "source": [
        "### Área do retângulo\n"
      ]
    },
    {
      "cell_type": "code",
      "execution_count": null,
      "metadata": {
        "id": "NkIDLasOJ3Et"
      },
      "outputs": [],
      "source": [
        "#entrada\n",
        "\n",
        "base = float(input(\"Digite a base do seu retângulo: \",))\n",
        "alt = float(input(\"Digite a altura do seu retângulo: \",))\n",
        "#processamento\n",
        "ar = base*alt\n",
        "#saída\n",
        "print(\"A Área do quadrado é: \", ar)"
      ]
    },
    {
      "cell_type": "markdown",
      "metadata": {
        "id": "jUryjgQfQg0V"
      },
      "source": [
        "### Área do triângulo\n"
      ]
    },
    {
      "cell_type": "code",
      "execution_count": null,
      "metadata": {
        "id": "BzqG2RVeK1c8"
      },
      "outputs": [],
      "source": [
        "#entrada\n",
        "\n",
        "baset = float(input(\"Digite a primeira base do seu triângulo: \",))\n",
        "altt = float(input(\"Digite a altura do seu triângulo: \",))\n",
        "#processamento\n",
        "at = baset*altt/2\n",
        "#saída\n",
        "print(\"A Área do triângulo é: \", at)"
      ]
    },
    {
      "cell_type": "markdown",
      "metadata": {
        "id": "BQXT1MbXLkDI"
      },
      "source": [
        "### Área do trapézio\n"
      ]
    },
    {
      "cell_type": "code",
      "execution_count": null,
      "metadata": {
        "id": "5_HEMBk-LnM0"
      },
      "outputs": [],
      "source": [
        " #entrada\n",
        "\n",
        "basemaiort = float(input(\"Digite a base maior do trapézio: \",))\n",
        "basemenort = float(input(\"Digite a base menor do trapézio: \",))\n",
        "alttra = float(input(\"Digite a altura do seu trapézio: \",))\n",
        "#processamento\n",
        "art = (basemaiort+basemenort)*alttra/2\n",
        "#saída\n",
        "print(\"A Área do trápezio é: \", art)"
      ]
    },
    {
      "cell_type": "markdown",
      "metadata": {
        "id": "TSZbwiZ5Qj0D"
      },
      "source": [
        "### Descubra quantos azulejos é necessário para preencher sua parede"
      ]
    },
    {
      "cell_type": "code",
      "execution_count": null,
      "metadata": {
        "colab": {
          "base_uri": "https://localhost:8080/"
        },
        "id": "h9egmEa3bxgn",
        "outputId": "1da2dfcd-b8f9-47e9-d372-1f12a4243d86"
      },
      "outputs": [
        {
          "output_type": "stream",
          "name": "stdout",
          "text": [
            "Digite a base da sua parede em metros: 1000\n",
            "Digite a altura da sua parede em metros: 5000\n",
            "Digite a base do seu azulejo em centímetros: 3\n",
            "Digite a altura do seu azulejo em centímetros: 4\n",
            "Você precisará de:  41666666.66666667 azulejos\n"
          ]
        }
      ],
      "source": [
        "#entrada\n",
        "basepa = float(input(\"Digite a base da sua parede em metros: \"))\n",
        "altpa = float(input(\"Digite a altura da sua parede em metros: \"))\n",
        "baseazul = float(input(\"Digite a base do seu azulejo em centímetros: \"))\n",
        "altazul = float(input(\"Digite a altura do seu azulejo em centímetros: \"))\n",
        "\n",
        "#processamento\n",
        "areaazul = baseazul * altazul\n",
        "areapa = basepa * altpa\n",
        "totalazul = areapa/(areaazul/100)\n",
        "\n",
        "#saída\n",
        "print(\"Você precisará de: \",totalazul,\"azulejos\")"
      ]
    }
  ],
  "metadata": {
    "colab": {
      "provenance": []
    },
    "kernelspec": {
      "display_name": "Python 3",
      "name": "python3"
    },
    "language_info": {
      "name": "python"
    }
  },
  "nbformat": 4,
  "nbformat_minor": 0
}