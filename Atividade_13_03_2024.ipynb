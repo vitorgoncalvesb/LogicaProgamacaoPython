{
  "nbformat": 4,
  "nbformat_minor": 0,
  "metadata": {
    "colab": {
      "provenance": [],
      "authorship_tag": "ABX9TyMgWDfiOtIUfJPYmaEn+dyM",
      "include_colab_link": true
    },
    "kernelspec": {
      "name": "python3",
      "display_name": "Python 3"
    },
    "language_info": {
      "name": "python"
    }
  },
  "cells": [
    {
      "cell_type": "markdown",
      "metadata": {
        "id": "view-in-github",
        "colab_type": "text"
      },
      "source": [
        "<a href=\"https://colab.research.google.com/github/vitorgoncalvesb/LogicaProgamacaoPython/blob/main/Atividade_13_03_2024.ipynb\" target=\"_parent\"><img src=\"https://colab.research.google.com/assets/colab-badge.svg\" alt=\"Open In Colab\"/></a>"
      ]
    },
    {
      "cell_type": "markdown",
      "source": [
        "#Média\n",
        "\n"
      ],
      "metadata": {
        "id": "-ddal-hFUhuB"
      }
    },
    {
      "cell_type": "code",
      "source": [
        "#entrada\n",
        "p1 = float(input(\"Digite a sua primeira nota, de 0 a 10: \"))\n",
        "p2 = float(input(\"Digite a sua segunda nota, de 0 a 10: \"))\n",
        "#processamento\n",
        "m = (p1+p2)/2\n",
        "#saída\n",
        "print(\"A média das duas notas é:\", m)"
      ],
      "metadata": {
        "id": "8VtuVOLdUeny"
      },
      "execution_count": null,
      "outputs": []
    },
    {
      "cell_type": "markdown",
      "source": [
        "#Dólar\n"
      ],
      "metadata": {
        "id": "XgMux3J4bB2y"
      }
    },
    {
      "cell_type": "code",
      "source": [
        "cd = float(input(\"Digite a cotação atual do dólar: \"))\n",
        "vr = float(input(\"Digite o valor em reias a ser convertido: \"))\n",
        "vd = vr/cd\n",
        "print(\"O valor convertido em dólares é: \", vd)"
      ],
      "metadata": {
        "id": "llf0lIMebAya",
        "colab": {
          "base_uri": "https://localhost:8080/"
        },
        "outputId": "69aea1f8-37ab-4992-8ffc-937710ed73d8"
      },
      "execution_count": null,
      "outputs": [
        {
          "output_type": "stream",
          "name": "stdout",
          "text": [
            "Digite a cotação atual do dólar: 5.02\n",
            "Digite o valor em reias a ser convertido: 100\n",
            "O valor convertido em dólares é:  19.9203187250996\n"
          ]
        }
      ]
    },
    {
      "cell_type": "markdown",
      "source": [
        "#Soma de números ao quadrado\n"
      ],
      "metadata": {
        "id": "i5A4oWJdTDeD"
      }
    },
    {
      "cell_type": "code",
      "source": [
        "n1 = float(input(\"Digite o primeiro número: \"))\n",
        "n2 = float(input(\"Digite o segundo número: \"))\n",
        "n3 = float(input(\"Digite o terceiro número: \"))\n",
        "n4 = float(input(\"Digite o quarto número: \"))\n",
        "\n",
        "qn1 = n1*n1\n",
        "qn2 = n2*n2\n",
        "qn3 = n3*n3\n",
        "qn4 = n4*n4\n",
        "\n",
        "res = qn1+qn2+qn3+qn4\n",
        "\n",
        "print(\"O resultado do quadrado das somas é igual a: \", res)"
      ],
      "metadata": {
        "colab": {
          "base_uri": "https://localhost:8080/"
        },
        "id": "1_83y2BOTLDS",
        "outputId": "e880b85e-507d-465a-eabf-d8bdbc7fe61b"
      },
      "execution_count": null,
      "outputs": [
        {
          "output_type": "stream",
          "name": "stdout",
          "text": [
            "Digite o primeiro número: 2\n",
            "Digite o segundo número: 4\n",
            "Digite o terceiro número: 5\n",
            "Digite o quarto número: 6\n",
            "O resultado do quadrado das somas é igual a:  81.0\n"
          ]
        }
      ]
    },
    {
      "cell_type": "markdown",
      "source": [
        "#Pagamento de comissão\n"
      ],
      "metadata": {
        "id": "De7rujvzWgnR"
      }
    },
    {
      "cell_type": "code",
      "source": [
        "pctc = float(input(\"Digite a quantidade de peças vendidas: \"))\n",
        "pu = float(input(\"Digite o preço unitário da peça: \"))\n",
        "\n",
        "vc = pctc*pu*0.05\n",
        "\n",
        "print(\"O valor da sua comissão foi: \", vc)"
      ],
      "metadata": {
        "colab": {
          "base_uri": "https://localhost:8080/"
        },
        "id": "1o-9PsOaWhK5",
        "outputId": "f2fcfb4f-cea2-4415-914b-06343dde9565"
      },
      "execution_count": null,
      "outputs": [
        {
          "output_type": "stream",
          "name": "stdout",
          "text": [
            "Digite a quantidade de peças vendidas: 200\n",
            "Digite o preço unitário da peça: 2.5\n",
            "O valor da sua comissão foi:  25.0\n"
          ]
        }
      ]
    },
    {
      "cell_type": "markdown",
      "source": [
        "#Custo de carro novo\n"
      ],
      "metadata": {
        "id": "_jsOLfJPcqrQ"
      }
    },
    {
      "cell_type": "code",
      "source": [
        "cdf = float(input(\"Digite o preço de fábrica do carro: \"))\n",
        "\n",
        "imp = cdf*0.45\n",
        "dstb = (imp+cdf)*0.28\n",
        "pf = cdf+dstb+imp\n",
        "print(imp)\n",
        "print(dstb)\n",
        "print(\"O valor final do carro será de: \",pf)"
      ],
      "metadata": {
        "colab": {
          "base_uri": "https://localhost:8080/"
        },
        "id": "qT6qQzrKcwnI",
        "outputId": "76238eab-8778-491f-81ea-e5694eab30c5"
      },
      "execution_count": null,
      "outputs": [
        {
          "output_type": "stream",
          "name": "stdout",
          "text": [
            "Digite o preço de fábrica do carro: 25000\n",
            "11250.0\n",
            "10150.000000000002\n",
            "O valor final do carro será de:  46400.0\n"
          ]
        }
      ]
    },
    {
      "cell_type": "markdown",
      "source": [
        "#Conversão de horas e minutos para segundos"
      ],
      "metadata": {
        "id": "RALs-qbCe7zA"
      }
    },
    {
      "cell_type": "code",
      "source": [
        "horas = float(input(\"Digite as horas: \"))\n",
        "minutos = float(input(\"Digite os minutos: \"))\n",
        "segundos = (minutos/60)+horas\n",
        "print(\"Seus segundos convertidos serão de: \",segundos)"
      ],
      "metadata": {
        "colab": {
          "base_uri": "https://localhost:8080/"
        },
        "id": "gbQZe6k0fCbe",
        "outputId": "cf8c6b8c-d665-48ae-c0eb-68bca5a7f603"
      },
      "execution_count": 20,
      "outputs": [
        {
          "output_type": "stream",
          "name": "stdout",
          "text": [
            "Digite as horas: 15\n",
            "Digite os minutos: 45\n",
            "Seus segundos convertidos serão de:  15.75\n"
          ]
        }
      ]
    },
    {
      "cell_type": "markdown",
      "source": [
        "#Hora extra"
      ],
      "metadata": {
        "id": "KRHJMJVPfsjH"
      }
    },
    {
      "cell_type": "code",
      "source": [
        "horas = float(input(\"Digite as horas: \"))\n",
        "minutos = float(input(\"Digite os minutos: \"))\n",
        "ganhophora = float(input(\"Digite seu ganho por hora: \"))\n",
        "segundos = (minutos/60)+horas\n",
        "salario = ganhophora * segundos\n",
        "hextra = salario * 0.70\n",
        "salextra = salario + hextra\n",
        "\n",
        "print(f\"O salário final junto com a hora extra é de: \",round(salextra,2))\n"
      ],
      "metadata": {
        "colab": {
          "base_uri": "https://localhost:8080/"
        },
        "id": "HVZGG1BNfxAH",
        "outputId": "76894e51-9787-465c-b00c-42ffae99453d"
      },
      "execution_count": 35,
      "outputs": [
        {
          "output_type": "stream",
          "name": "stdout",
          "text": [
            "Digite as horas: 15\n",
            "Digite os minutos: 45\n",
            "Digite seu ganho por hora: 25\n",
            "O salário final junto com a hora extra é de:  669.38\n"
          ]
        }
      ]
    },
    {
      "cell_type": "markdown",
      "source": [
        "#Gasto com gasolina"
      ],
      "metadata": {
        "id": "hxjAlPeka3Kt"
      }
    },
    {
      "cell_type": "code",
      "source": [
        "kmpercorrer = float(input(\"Quantos quilômetros serão percorridos: \"))\n",
        "consumogas = float(input(\"Digite o consumo de litros do seu carro por KM: \"))\n",
        "divgas = kmpercorrer / consumogas\n",
        "gastoida = divgas * 4.50\n",
        "gastovolta = gastoida * 2\n",
        "print(\"Você gastará em média na ida: R$\",gastoida,\"Você gastará em média na ida e volta: R$\",gastovolta)"
      ],
      "metadata": {
        "id": "fRZJ8aoqa8Y8",
        "colab": {
          "base_uri": "https://localhost:8080/"
        },
        "outputId": "31cff05d-b33e-41d7-efe4-3176a316aadf"
      },
      "execution_count": 11,
      "outputs": [
        {
          "output_type": "stream",
          "name": "stdout",
          "text": [
            "Quantos quilômetros serão percorridos: 450\n",
            "Digite o consumo de litros do seu carro por KM: 10\n",
            "Você gastará em média na ida: R$ 202.5 Você gastará em média na ida e volta: R$ 405.0\n"
          ]
        }
      ]
    },
    {
      "cell_type": "markdown",
      "source": [
        "#Ganhei multa ou não?"
      ],
      "metadata": {
        "id": "im0hFN6yzyjl"
      }
    },
    {
      "cell_type": "code",
      "source": [
        "\n",
        "velocidade_maxima = 110\n",
        "distancia_percorrida = float(input(\"Qual o percurso percorrido (em km)? \"))\n",
        "tempo_gasto = input(\"Qual o tempo gasto nesse percurso (no formato hh:mm)? \")\n",
        "\n",
        "horas, minutos = map(int, tempo_gasto.split('h'))\n",
        "tempo_total_em_horas = horas + minutos / 60\n",
        "\n",
        "velocidade_media = distancia_percorrida / tempo_total_em_horas\n",
        "\n",
        "print(\"Velocidade média:\", round(velocidade_media, 2), \"km/h\")\n",
        "\n",
        "if velocidade_media > velocidade_maxima:\n",
        "    print(\"Você ultrapassou a velocidade máxima permitida e pode receber uma multa!\")\n",
        "else:\n",
        "    print(\"Você está dentro do limite de velocidade.\")"
      ],
      "metadata": {
        "colab": {
          "base_uri": "https://localhost:8080/"
        },
        "id": "R5PxzuG0z5fS",
        "outputId": "6d60c80a-55ae-4feb-a11d-34d1ea220bb7"
      },
      "execution_count": 41,
      "outputs": [
        {
          "output_type": "stream",
          "name": "stdout",
          "text": [
            "Qual o percurso percorrido (em km)? 150\n",
            "Qual o tempo gasto nesse percurso (no formato hh:mm)? 1h13\n",
            "Velocidade média: 123.29 km/h\n",
            "Você ultrapassou a velocidade máxima permitida e pode receber uma multa!\n"
          ]
        }
      ]
    }
  ]
}